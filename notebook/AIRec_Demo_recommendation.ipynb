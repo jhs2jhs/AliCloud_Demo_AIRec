{
 "cells": [
  {
   "cell_type": "code",
   "execution_count": 1,
   "metadata": {},
   "outputs": [],
   "source": [
    "# ! python2 -m pip install aliyun-python-sdk-airec\n",
    "# ! pip install aliyun-python-sdk-airec"
   ]
  },
  {
   "cell_type": "code",
   "execution_count": 2,
   "metadata": {},
   "outputs": [],
   "source": [
    "# https://api.aliyun.com/#/\n",
    "# get recommended result: https://help.aliyun.com/document_detail/101483.html \n",
    "# update recomended action: https://help.aliyun.com/document_detail/101482.html \n",
    "# aliyun python sdk: https://github.com/aliyun/aliyun-openapi-python-sdk"
   ]
  },
  {
   "cell_type": "markdown",
   "metadata": {},
   "source": [
    "# config"
   ]
  },
  {
   "cell_type": "code",
   "execution_count": 3,
   "metadata": {},
   "outputs": [],
   "source": [
    "from aliyunsdkcore import client\n",
    "from aliyunsdkcore.profile import region_provider\n",
    "\n",
    "import ali_config\n",
    "\n",
    "region = ali_config.region # via: cn-shanghai(sh), ap-southeast-1(sg)\n",
    "accessKeyId = ali_config.accessKeyId # via: https://ak-console.aliyun.com\n",
    "accessKeySecret = ali_config.accessKeySecret\n",
    "\n",
    "product = \"Airec\"\n",
    "domain = \"airec.\"+ region +\".aliyuncs.com\"\n",
    "\n",
    "region_provider.add_endpoint(product, region, domain)\n",
    "\n",
    "requestClient = client.AcsClient(accessKeyId, accessKeySecret, region)"
   ]
  },
  {
   "cell_type": "code",
   "execution_count": 4,
   "metadata": {},
   "outputs": [],
   "source": [
    "from aliyunsdkairec.request.v20181012.RecommendRequest import RecommendRequest\n",
    "import json\n",
    "from pprint import pprint"
   ]
  },
  {
   "cell_type": "code",
   "execution_count": 5,
   "metadata": {},
   "outputs": [],
   "source": [
    "def get_recommendation(instance_id, scene_id, user_id, ip, imei, return_count = 10):\n",
    "    request = RecommendRequest()\n",
    "\n",
    "    request.set_InstanceId(instance_id) # airec-cn-\n",
    "    request.set_SceneId(scene_id)\n",
    "    request.set_UserId(user_id)\n",
    "    request.set_Ip(ip)\n",
    "    request.set_Imei(imei)\n",
    "    request.set_ReturnCount(return_count) ## this is key, need to set always\n",
    "\n",
    "    request.set_accept_format(\"JSON\")\n",
    "    result = requestClient.do_action(request)\n",
    "    r = json.loads(result)\n",
    "    return r"
   ]
  },
  {
   "cell_type": "code",
   "execution_count": 6,
   "metadata": {},
   "outputs": [
    {
     "name": "stdout",
     "output_type": "stream",
     "text": [
      "{'RequestId': 'FCA4AE9C-94E4-4A5C-BD83-244CCD212132',\n",
      " 'Result': [{'ItemId': 9,\n",
      "             'ItemType': 'article',\n",
      "             'MatchInfo': 'cd',\n",
      "             'Position': 0,\n",
      "             'TraceId': '1007.58528.121661.100200300000000:66ba3a2b-53ae-4627-85e6-c08cd848908b:168:1:0:1:::5:content___9:article:cd:0.296506904955321:0.0:0.296506904955321:1555701021061::::::::::',\n",
      "             'TraceInfo': '1007.58528.121661.100200300000000:66ba3a2b-53ae-4627-85e6-c08cd848908b:168:1:0:1:::5:content___9:article:cd:0.296506904955321:0.0:0.296506904955321:1555701021061::::::::::',\n",
      "             'Weight': 1.0},\n",
      "            {'ItemId': 27,\n",
      "             'ItemType': 'article',\n",
      "             'MatchInfo': 'cd',\n",
      "             'Position': 1,\n",
      "             'TraceId': '1007.58528.121661.100200300000000:66ba3a2b-53ae-4627-85e6-c08cd848908b:168:1:1:1:::5:content___27:article:cd:0.289583017483201:0.0:0.289583017483201:1555701021061::::::::::',\n",
      "             'TraceInfo': '1007.58528.121661.100200300000000:66ba3a2b-53ae-4627-85e6-c08cd848908b:168:1:1:1:::5:content___27:article:cd:0.289583017483201:0.0:0.289583017483201:1555701021061::::::::::',\n",
      "             'Weight': 1.0},\n",
      "            {'ItemId': 43,\n",
      "             'ItemType': 'image',\n",
      "             'MatchInfo': 'cd',\n",
      "             'Position': 2,\n",
      "             'TraceId': '1007.58528.121661.100200300000000:66ba3a2b-53ae-4627-85e6-c08cd848908b:168:1:2:1:::5:content___43:image:cd:0.257660821592584:0.0:0.257660821592584:1555701021061::::::::::',\n",
      "             'TraceInfo': '1007.58528.121661.100200300000000:66ba3a2b-53ae-4627-85e6-c08cd848908b:168:1:2:1:::5:content___43:image:cd:0.257660821592584:0.0:0.257660821592584:1555701021061::::::::::',\n",
      "             'Weight': 1.0},\n",
      "            {'ItemId': 7,\n",
      "             'ItemType': 'article',\n",
      "             'MatchInfo': 'cd',\n",
      "             'Position': 3,\n",
      "             'TraceId': '1007.58528.121661.100200300000000:66ba3a2b-53ae-4627-85e6-c08cd848908b:168:1:3:1:::5:content___7:article:cd:0.257660821592584:0.0:0.257660821592584:1555701021061::::::::::',\n",
      "             'TraceInfo': '1007.58528.121661.100200300000000:66ba3a2b-53ae-4627-85e6-c08cd848908b:168:1:3:1:::5:content___7:article:cd:0.257660821592584:0.0:0.257660821592584:1555701021061::::::::::',\n",
      "             'Weight': 1.0},\n",
      "            {'ItemId': 56,\n",
      "             'ItemType': 'image',\n",
      "             'MatchInfo': 'cd',\n",
      "             'Position': 4,\n",
      "             'TraceId': '1007.58528.121661.100200300000000:66ba3a2b-53ae-4627-85e6-c08cd848908b:168:1:4:1:::5:content___56:image:cd:0.25688239010741:0.0:0.25688239010741:1555701021061::::::::::',\n",
      "             'TraceInfo': '1007.58528.121661.100200300000000:66ba3a2b-53ae-4627-85e6-c08cd848908b:168:1:4:1:::5:content___56:image:cd:0.25688239010741:0.0:0.25688239010741:1555701021061::::::::::',\n",
      "             'Weight': 1.0}]}\n"
     ]
    }
   ],
   "source": [
    "instance_id = 'airec-cn-45913115o001'\n",
    "scene_id = '1'\n",
    "user_id = '168'\n",
    "ip = '191.168.0.1'\n",
    "imei = 'xx.xx.xx.xx'\n",
    "return_count = 5\n",
    "\n",
    "r = get_recommendation(instance_id, scene_id, user_id, ip, imei, return_count)\n",
    "pprint(r)"
   ]
  },
  {
   "cell_type": "code",
   "execution_count": null,
   "metadata": {},
   "outputs": [],
   "source": []
  }
 ],
 "metadata": {
  "kernelspec": {
   "display_name": "Python 2",
   "language": "python",
   "name": "python2"
  },
  "language_info": {
   "codemirror_mode": {
    "name": "ipython",
    "version": 3
   },
   "file_extension": ".py",
   "mimetype": "text/x-python",
   "name": "python",
   "nbconvert_exporter": "python",
   "pygments_lexer": "ipython3",
   "version": "3.7.3"
  }
 },
 "nbformat": 4,
 "nbformat_minor": 2
}
